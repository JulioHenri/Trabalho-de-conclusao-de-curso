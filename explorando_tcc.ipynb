{
  "nbformat": 4,
  "nbformat_minor": 0,
  "metadata": {
    "colab": {
      "name": "explorando_tcc.ipynb",
      "provenance": [],
      "collapsed_sections": [],
      "authorship_tag": "ABX9TyNAZDPgCReyYmpzVv2dh8pg",
      "include_colab_link": true
    },
    "kernelspec": {
      "name": "python3",
      "display_name": "Python 3"
    },
    "language_info": {
      "name": "python"
    }
  },
  "cells": [
    {
      "cell_type": "markdown",
      "metadata": {
        "id": "view-in-github",
        "colab_type": "text"
      },
      "source": [
        "<a href=\"https://colab.research.google.com/github/JulioHenri/Trabalho-de-conclusao-de-curso/blob/main/explorando_tcc.ipynb\" target=\"_parent\"><img src=\"https://colab.research.google.com/assets/colab-badge.svg\" alt=\"Open In Colab\"/></a>"
      ]
    },
    {
      "cell_type": "markdown",
      "source": [
        "# Importando libs"
      ],
      "metadata": {
        "id": "lpLbGRGNGrhm"
      }
    },
    {
      "cell_type": "code",
      "execution_count": null,
      "metadata": {
        "id": "0q0FPGb8EypI"
      },
      "outputs": [],
      "source": [
        "import pandas as pd\n",
        "import numpy as np\n",
        "\n",
        "import matplotlib.pyplot as plt\n",
        "import seaborn as sns\n",
        "\n",
        "%matplotlib inline"
      ]
    },
    {
      "cell_type": "markdown",
      "source": [
        "# Carregando e lendo o dataset"
      ],
      "metadata": {
        "id": "8xrGAyWAGu0E"
      }
    },
    {
      "cell_type": "code",
      "source": [
        "df = pd.read_excel('kids_10_19.xlsx')\n",
        "df.head()"
      ],
      "metadata": {
        "colab": {
          "base_uri": "https://localhost:8080/",
          "height": 443
        },
        "id": "hnCDChE0E6Ab",
        "outputId": "ccc1451c-fada-4f04-a828-946c6ec8f40d"
      },
      "execution_count": null,
      "outputs": [
        {
          "output_type": "execute_result",
          "data": {
            "text/html": [
              "\n",
              "  <div id=\"df-77dd66c6-fd14-4fbd-b8df-9a168a6a8778\">\n",
              "    <div class=\"colab-df-container\">\n",
              "      <div>\n",
              "<style scoped>\n",
              "    .dataframe tbody tr th:only-of-type {\n",
              "        vertical-align: middle;\n",
              "    }\n",
              "\n",
              "    .dataframe tbody tr th {\n",
              "        vertical-align: top;\n",
              "    }\n",
              "\n",
              "    .dataframe thead th {\n",
              "        text-align: right;\n",
              "    }\n",
              "</style>\n",
              "<table border=\"1\" class=\"dataframe\">\n",
              "  <thead>\n",
              "    <tr style=\"text-align: right;\">\n",
              "      <th></th>\n",
              "      <th>UF_ZI</th>\n",
              "      <th>ANO_CMPT</th>\n",
              "      <th>MES_CMPT</th>\n",
              "      <th>ESPEC</th>\n",
              "      <th>MUNIC_RES</th>\n",
              "      <th>NASC</th>\n",
              "      <th>SEXO</th>\n",
              "      <th>MARCA_UTI</th>\n",
              "      <th>UTI_INT_TO</th>\n",
              "      <th>DIAR_ACOM</th>\n",
              "      <th>QT_DIARIAS</th>\n",
              "      <th>VAL_SH</th>\n",
              "      <th>VAL_SP</th>\n",
              "      <th>VAL_TOT</th>\n",
              "      <th>VAL_UTI</th>\n",
              "      <th>US_TOT</th>\n",
              "      <th>DT_INTER</th>\n",
              "      <th>DT_SAIDA</th>\n",
              "      <th>DIAG_PRINC</th>\n",
              "      <th>DIAG_SECUN</th>\n",
              "      <th>MUNIC_MOV</th>\n",
              "      <th>COD_IDADE</th>\n",
              "      <th>IDADE</th>\n",
              "      <th>DIAS_PERM</th>\n",
              "      <th>MORTE</th>\n",
              "      <th>RACA_COR</th>\n",
              "      <th>years_old</th>\n",
              "      <th>Grupo</th>\n",
              "      <th>Grupo_Nome</th>\n",
              "      <th>Grupon</th>\n",
              "      <th>ICSAP</th>\n",
              "      <th>CODMUNNEW</th>\n",
              "      <th>NOME_MUNIC</th>\n",
              "      <th>ID_RM</th>\n",
              "      <th>CODMESO</th>\n",
              "      <th>MESORREGIAO</th>\n",
              "      <th>MESO</th>\n",
              "    </tr>\n",
              "  </thead>\n",
              "  <tbody>\n",
              "    <tr>\n",
              "      <th>0</th>\n",
              "      <td>150000</td>\n",
              "      <td>2010</td>\n",
              "      <td>3</td>\n",
              "      <td>7</td>\n",
              "      <td>150010</td>\n",
              "      <td>20080721</td>\n",
              "      <td>3</td>\n",
              "      <td>0</td>\n",
              "      <td>0</td>\n",
              "      <td>4</td>\n",
              "      <td>4</td>\n",
              "      <td>317.4</td>\n",
              "      <td>39.5</td>\n",
              "      <td>356.9</td>\n",
              "      <td>0.0</td>\n",
              "      <td>207.50</td>\n",
              "      <td>20100110.0</td>\n",
              "      <td>20100114.0</td>\n",
              "      <td>A049</td>\n",
              "      <td>NaN</td>\n",
              "      <td>150010.0</td>\n",
              "      <td>4.0</td>\n",
              "      <td>1.0</td>\n",
              "      <td>4.0</td>\n",
              "      <td>0.0</td>\n",
              "      <td>3.0</td>\n",
              "      <td>2</td>\n",
              "      <td>II</td>\n",
              "      <td>Gastroenterites Infecciosas e complicações</td>\n",
              "      <td>3</td>\n",
              "      <td>1.0</td>\n",
              "      <td>1500107</td>\n",
              "      <td>Abaetetuba</td>\n",
              "      <td>NaN</td>\n",
              "      <td>1504.0</td>\n",
              "      <td>Nordeste Paraense</td>\n",
              "      <td>4</td>\n",
              "    </tr>\n",
              "    <tr>\n",
              "      <th>1</th>\n",
              "      <td>150000</td>\n",
              "      <td>2010</td>\n",
              "      <td>3</td>\n",
              "      <td>7</td>\n",
              "      <td>150010</td>\n",
              "      <td>20090204</td>\n",
              "      <td>1</td>\n",
              "      <td>0</td>\n",
              "      <td>0</td>\n",
              "      <td>5</td>\n",
              "      <td>5</td>\n",
              "      <td>325.4</td>\n",
              "      <td>39.5</td>\n",
              "      <td>364.9</td>\n",
              "      <td>0.0</td>\n",
              "      <td>212.15</td>\n",
              "      <td>20100107.0</td>\n",
              "      <td>20100112.0</td>\n",
              "      <td>A049</td>\n",
              "      <td>NaN</td>\n",
              "      <td>150010.0</td>\n",
              "      <td>3.0</td>\n",
              "      <td>11.0</td>\n",
              "      <td>5.0</td>\n",
              "      <td>0.0</td>\n",
              "      <td>99.0</td>\n",
              "      <td>1</td>\n",
              "      <td>II</td>\n",
              "      <td>Gastroenterites Infecciosas e complicações</td>\n",
              "      <td>3</td>\n",
              "      <td>1.0</td>\n",
              "      <td>1500107</td>\n",
              "      <td>Abaetetuba</td>\n",
              "      <td>NaN</td>\n",
              "      <td>1504.0</td>\n",
              "      <td>Nordeste Paraense</td>\n",
              "      <td>4</td>\n",
              "    </tr>\n",
              "    <tr>\n",
              "      <th>2</th>\n",
              "      <td>150000</td>\n",
              "      <td>2010</td>\n",
              "      <td>3</td>\n",
              "      <td>7</td>\n",
              "      <td>150010</td>\n",
              "      <td>20080814</td>\n",
              "      <td>1</td>\n",
              "      <td>0</td>\n",
              "      <td>0</td>\n",
              "      <td>4</td>\n",
              "      <td>4</td>\n",
              "      <td>317.4</td>\n",
              "      <td>39.5</td>\n",
              "      <td>356.9</td>\n",
              "      <td>0.0</td>\n",
              "      <td>207.50</td>\n",
              "      <td>20100131.0</td>\n",
              "      <td>20100204.0</td>\n",
              "      <td>A049</td>\n",
              "      <td>NaN</td>\n",
              "      <td>150010.0</td>\n",
              "      <td>4.0</td>\n",
              "      <td>1.0</td>\n",
              "      <td>4.0</td>\n",
              "      <td>0.0</td>\n",
              "      <td>99.0</td>\n",
              "      <td>2</td>\n",
              "      <td>II</td>\n",
              "      <td>Gastroenterites Infecciosas e complicações</td>\n",
              "      <td>3</td>\n",
              "      <td>1.0</td>\n",
              "      <td>1500107</td>\n",
              "      <td>Abaetetuba</td>\n",
              "      <td>NaN</td>\n",
              "      <td>1504.0</td>\n",
              "      <td>Nordeste Paraense</td>\n",
              "      <td>4</td>\n",
              "    </tr>\n",
              "    <tr>\n",
              "      <th>3</th>\n",
              "      <td>150000</td>\n",
              "      <td>2010</td>\n",
              "      <td>5</td>\n",
              "      <td>7</td>\n",
              "      <td>150010</td>\n",
              "      <td>20081027</td>\n",
              "      <td>3</td>\n",
              "      <td>0</td>\n",
              "      <td>0</td>\n",
              "      <td>5</td>\n",
              "      <td>5</td>\n",
              "      <td>325.4</td>\n",
              "      <td>39.5</td>\n",
              "      <td>364.9</td>\n",
              "      <td>0.0</td>\n",
              "      <td>202.72</td>\n",
              "      <td>20100326.0</td>\n",
              "      <td>20100331.0</td>\n",
              "      <td>A049</td>\n",
              "      <td>NaN</td>\n",
              "      <td>150010.0</td>\n",
              "      <td>4.0</td>\n",
              "      <td>1.0</td>\n",
              "      <td>5.0</td>\n",
              "      <td>0.0</td>\n",
              "      <td>99.0</td>\n",
              "      <td>2</td>\n",
              "      <td>II</td>\n",
              "      <td>Gastroenterites Infecciosas e complicações</td>\n",
              "      <td>3</td>\n",
              "      <td>1.0</td>\n",
              "      <td>1500107</td>\n",
              "      <td>Abaetetuba</td>\n",
              "      <td>NaN</td>\n",
              "      <td>1504.0</td>\n",
              "      <td>Nordeste Paraense</td>\n",
              "      <td>4</td>\n",
              "    </tr>\n",
              "    <tr>\n",
              "      <th>4</th>\n",
              "      <td>150000</td>\n",
              "      <td>2010</td>\n",
              "      <td>6</td>\n",
              "      <td>7</td>\n",
              "      <td>150010</td>\n",
              "      <td>20090804</td>\n",
              "      <td>3</td>\n",
              "      <td>0</td>\n",
              "      <td>0</td>\n",
              "      <td>4</td>\n",
              "      <td>4</td>\n",
              "      <td>317.4</td>\n",
              "      <td>39.5</td>\n",
              "      <td>356.9</td>\n",
              "      <td>0.0</td>\n",
              "      <td>203.94</td>\n",
              "      <td>20100307.0</td>\n",
              "      <td>20100311.0</td>\n",
              "      <td>A049</td>\n",
              "      <td>NaN</td>\n",
              "      <td>150010.0</td>\n",
              "      <td>3.0</td>\n",
              "      <td>7.0</td>\n",
              "      <td>4.0</td>\n",
              "      <td>0.0</td>\n",
              "      <td>3.0</td>\n",
              "      <td>1</td>\n",
              "      <td>II</td>\n",
              "      <td>Gastroenterites Infecciosas e complicações</td>\n",
              "      <td>3</td>\n",
              "      <td>1.0</td>\n",
              "      <td>1500107</td>\n",
              "      <td>Abaetetuba</td>\n",
              "      <td>NaN</td>\n",
              "      <td>1504.0</td>\n",
              "      <td>Nordeste Paraense</td>\n",
              "      <td>4</td>\n",
              "    </tr>\n",
              "  </tbody>\n",
              "</table>\n",
              "</div>\n",
              "      <button class=\"colab-df-convert\" onclick=\"convertToInteractive('df-77dd66c6-fd14-4fbd-b8df-9a168a6a8778')\"\n",
              "              title=\"Convert this dataframe to an interactive table.\"\n",
              "              style=\"display:none;\">\n",
              "        \n",
              "  <svg xmlns=\"http://www.w3.org/2000/svg\" height=\"24px\"viewBox=\"0 0 24 24\"\n",
              "       width=\"24px\">\n",
              "    <path d=\"M0 0h24v24H0V0z\" fill=\"none\"/>\n",
              "    <path d=\"M18.56 5.44l.94 2.06.94-2.06 2.06-.94-2.06-.94-.94-2.06-.94 2.06-2.06.94zm-11 1L8.5 8.5l.94-2.06 2.06-.94-2.06-.94L8.5 2.5l-.94 2.06-2.06.94zm10 10l.94 2.06.94-2.06 2.06-.94-2.06-.94-.94-2.06-.94 2.06-2.06.94z\"/><path d=\"M17.41 7.96l-1.37-1.37c-.4-.4-.92-.59-1.43-.59-.52 0-1.04.2-1.43.59L10.3 9.45l-7.72 7.72c-.78.78-.78 2.05 0 2.83L4 21.41c.39.39.9.59 1.41.59.51 0 1.02-.2 1.41-.59l7.78-7.78 2.81-2.81c.8-.78.8-2.07 0-2.86zM5.41 20L4 18.59l7.72-7.72 1.47 1.35L5.41 20z\"/>\n",
              "  </svg>\n",
              "      </button>\n",
              "      \n",
              "  <style>\n",
              "    .colab-df-container {\n",
              "      display:flex;\n",
              "      flex-wrap:wrap;\n",
              "      gap: 12px;\n",
              "    }\n",
              "\n",
              "    .colab-df-convert {\n",
              "      background-color: #E8F0FE;\n",
              "      border: none;\n",
              "      border-radius: 50%;\n",
              "      cursor: pointer;\n",
              "      display: none;\n",
              "      fill: #1967D2;\n",
              "      height: 32px;\n",
              "      padding: 0 0 0 0;\n",
              "      width: 32px;\n",
              "    }\n",
              "\n",
              "    .colab-df-convert:hover {\n",
              "      background-color: #E2EBFA;\n",
              "      box-shadow: 0px 1px 2px rgba(60, 64, 67, 0.3), 0px 1px 3px 1px rgba(60, 64, 67, 0.15);\n",
              "      fill: #174EA6;\n",
              "    }\n",
              "\n",
              "    [theme=dark] .colab-df-convert {\n",
              "      background-color: #3B4455;\n",
              "      fill: #D2E3FC;\n",
              "    }\n",
              "\n",
              "    [theme=dark] .colab-df-convert:hover {\n",
              "      background-color: #434B5C;\n",
              "      box-shadow: 0px 1px 3px 1px rgba(0, 0, 0, 0.15);\n",
              "      filter: drop-shadow(0px 1px 2px rgba(0, 0, 0, 0.3));\n",
              "      fill: #FFFFFF;\n",
              "    }\n",
              "  </style>\n",
              "\n",
              "      <script>\n",
              "        const buttonEl =\n",
              "          document.querySelector('#df-77dd66c6-fd14-4fbd-b8df-9a168a6a8778 button.colab-df-convert');\n",
              "        buttonEl.style.display =\n",
              "          google.colab.kernel.accessAllowed ? 'block' : 'none';\n",
              "\n",
              "        async function convertToInteractive(key) {\n",
              "          const element = document.querySelector('#df-77dd66c6-fd14-4fbd-b8df-9a168a6a8778');\n",
              "          const dataTable =\n",
              "            await google.colab.kernel.invokeFunction('convertToInteractive',\n",
              "                                                     [key], {});\n",
              "          if (!dataTable) return;\n",
              "\n",
              "          const docLinkHtml = 'Like what you see? Visit the ' +\n",
              "            '<a target=\"_blank\" href=https://colab.research.google.com/notebooks/data_table.ipynb>data table notebook</a>'\n",
              "            + ' to learn more about interactive tables.';\n",
              "          element.innerHTML = '';\n",
              "          dataTable['output_type'] = 'display_data';\n",
              "          await google.colab.output.renderOutput(dataTable, element);\n",
              "          const docLink = document.createElement('div');\n",
              "          docLink.innerHTML = docLinkHtml;\n",
              "          element.appendChild(docLink);\n",
              "        }\n",
              "      </script>\n",
              "    </div>\n",
              "  </div>\n",
              "  "
            ],
            "text/plain": [
              "    UF_ZI  ANO_CMPT  MES_CMPT  ESPEC  ...  ID_RM  CODMESO        MESORREGIAO  MESO\n",
              "0  150000      2010         3      7  ...    NaN   1504.0  Nordeste Paraense     4\n",
              "1  150000      2010         3      7  ...    NaN   1504.0  Nordeste Paraense     4\n",
              "2  150000      2010         3      7  ...    NaN   1504.0  Nordeste Paraense     4\n",
              "3  150000      2010         5      7  ...    NaN   1504.0  Nordeste Paraense     4\n",
              "4  150000      2010         6      7  ...    NaN   1504.0  Nordeste Paraense     4\n",
              "\n",
              "[5 rows x 37 columns]"
            ]
          },
          "metadata": {},
          "execution_count": 2
        }
      ]
    },
    {
      "cell_type": "code",
      "source": [
        "df.info()"
      ],
      "metadata": {
        "colab": {
          "base_uri": "https://localhost:8080/"
        },
        "id": "XuK73YtNGMUD",
        "outputId": "b54d66db-a423-47de-88c7-69164d6b6d0a"
      },
      "execution_count": null,
      "outputs": [
        {
          "output_type": "stream",
          "name": "stdout",
          "text": [
            "<class 'pandas.core.frame.DataFrame'>\n",
            "RangeIndex: 29844 entries, 0 to 29843\n",
            "Data columns (total 37 columns):\n",
            " #   Column       Non-Null Count  Dtype  \n",
            "---  ------       --------------  -----  \n",
            " 0   UF_ZI        29844 non-null  int64  \n",
            " 1   ANO_CMPT     29844 non-null  int64  \n",
            " 2   MES_CMPT     29844 non-null  int64  \n",
            " 3   ESPEC        29844 non-null  int64  \n",
            " 4   MUNIC_RES    29844 non-null  int64  \n",
            " 5   NASC         29844 non-null  int64  \n",
            " 6   SEXO         29844 non-null  int64  \n",
            " 7   MARCA_UTI    29844 non-null  int64  \n",
            " 8   UTI_INT_TO   29844 non-null  int64  \n",
            " 9   DIAR_ACOM    29844 non-null  int64  \n",
            " 10  QT_DIARIAS   29844 non-null  int64  \n",
            " 11  VAL_SH       29844 non-null  float64\n",
            " 12  VAL_SP       29844 non-null  float64\n",
            " 13  VAL_TOT      29843 non-null  float64\n",
            " 14  VAL_UTI      29843 non-null  float64\n",
            " 15  US_TOT       29843 non-null  float64\n",
            " 16  DT_INTER     29843 non-null  float64\n",
            " 17  DT_SAIDA     29843 non-null  float64\n",
            " 18  DIAG_PRINC   29843 non-null  object \n",
            " 19  DIAG_SECUN   10709 non-null  object \n",
            " 20  MUNIC_MOV    29843 non-null  float64\n",
            " 21  COD_IDADE    29843 non-null  float64\n",
            " 22  IDADE        29843 non-null  float64\n",
            " 23  DIAS_PERM    29843 non-null  float64\n",
            " 24  MORTE        29843 non-null  float64\n",
            " 25  RACA_COR     29843 non-null  float64\n",
            " 26  years_old    29844 non-null  int64  \n",
            " 27  Grupo        14878 non-null  object \n",
            " 28  Grupo_Nome   14878 non-null  object \n",
            " 29  Grupon       29844 non-null  int64  \n",
            " 30  ICSAP        29844 non-null  float64\n",
            " 31  CODMUNNEW    29844 non-null  int64  \n",
            " 32  NOME_MUNIC   29844 non-null  object \n",
            " 33  ID_RM        3258 non-null   object \n",
            " 34  CODMESO      29844 non-null  float64\n",
            " 35  MESORREGIAO  29844 non-null  object \n",
            " 36  MESO         29844 non-null  int64  \n",
            "dtypes: float64(15), int64(15), object(7)\n",
            "memory usage: 8.4+ MB\n"
          ]
        }
      ]
    },
    {
      "cell_type": "markdown",
      "source": [
        "Por meio da função \".info()\" já podemos obter várias informações a respeito do Dataset. Ele nos mostra a quantidade de valores não nulos de cada coluna, os tipos das colunas e o total de linhas e colunas (29844 e 37, respectivamente).\n",
        "\n",
        "As colunas que mais chamam atenção são DIAG_SECUN, Grupo, Grupo_Nome, ID_RM pela quantidade de valores nulos."
      ],
      "metadata": {
        "id": "1PocNv5KIAoN"
      }
    },
    {
      "cell_type": "code",
      "source": [
        "df.describe()"
      ],
      "metadata": {
        "colab": {
          "base_uri": "https://localhost:8080/",
          "height": 364
        },
        "id": "HauhGclZGqe4",
        "outputId": "3579f5dc-217e-4d4b-de62-55ce030cb20d"
      },
      "execution_count": null,
      "outputs": [
        {
          "output_type": "execute_result",
          "data": {
            "text/html": [
              "\n",
              "  <div id=\"df-d89fa891-177d-4a71-815b-dd01cae6fe62\">\n",
              "    <div class=\"colab-df-container\">\n",
              "      <div>\n",
              "<style scoped>\n",
              "    .dataframe tbody tr th:only-of-type {\n",
              "        vertical-align: middle;\n",
              "    }\n",
              "\n",
              "    .dataframe tbody tr th {\n",
              "        vertical-align: top;\n",
              "    }\n",
              "\n",
              "    .dataframe thead th {\n",
              "        text-align: right;\n",
              "    }\n",
              "</style>\n",
              "<table border=\"1\" class=\"dataframe\">\n",
              "  <thead>\n",
              "    <tr style=\"text-align: right;\">\n",
              "      <th></th>\n",
              "      <th>UF_ZI</th>\n",
              "      <th>ANO_CMPT</th>\n",
              "      <th>MES_CMPT</th>\n",
              "      <th>ESPEC</th>\n",
              "      <th>MUNIC_RES</th>\n",
              "      <th>NASC</th>\n",
              "      <th>SEXO</th>\n",
              "      <th>MARCA_UTI</th>\n",
              "      <th>UTI_INT_TO</th>\n",
              "      <th>DIAR_ACOM</th>\n",
              "      <th>QT_DIARIAS</th>\n",
              "      <th>VAL_SH</th>\n",
              "      <th>VAL_SP</th>\n",
              "      <th>VAL_TOT</th>\n",
              "      <th>VAL_UTI</th>\n",
              "      <th>US_TOT</th>\n",
              "      <th>DT_INTER</th>\n",
              "      <th>DT_SAIDA</th>\n",
              "      <th>MUNIC_MOV</th>\n",
              "      <th>COD_IDADE</th>\n",
              "      <th>IDADE</th>\n",
              "      <th>DIAS_PERM</th>\n",
              "      <th>MORTE</th>\n",
              "      <th>RACA_COR</th>\n",
              "      <th>years_old</th>\n",
              "      <th>Grupon</th>\n",
              "      <th>ICSAP</th>\n",
              "      <th>CODMUNNEW</th>\n",
              "      <th>CODMESO</th>\n",
              "      <th>MESO</th>\n",
              "    </tr>\n",
              "  </thead>\n",
              "  <tbody>\n",
              "    <tr>\n",
              "      <th>count</th>\n",
              "      <td>29844.0</td>\n",
              "      <td>29844.000000</td>\n",
              "      <td>29844.000000</td>\n",
              "      <td>29844.000000</td>\n",
              "      <td>29844.000000</td>\n",
              "      <td>2.984400e+04</td>\n",
              "      <td>29844.000000</td>\n",
              "      <td>29844.000000</td>\n",
              "      <td>29844.000000</td>\n",
              "      <td>29844.000000</td>\n",
              "      <td>29844.000000</td>\n",
              "      <td>29844.000000</td>\n",
              "      <td>29844.000000</td>\n",
              "      <td>29843.000000</td>\n",
              "      <td>29843.000000</td>\n",
              "      <td>29843.000000</td>\n",
              "      <td>2.984300e+04</td>\n",
              "      <td>2.984300e+04</td>\n",
              "      <td>29843.000000</td>\n",
              "      <td>29843.000000</td>\n",
              "      <td>29843.000000</td>\n",
              "      <td>29843.000000</td>\n",
              "      <td>29843.000000</td>\n",
              "      <td>29843.000000</td>\n",
              "      <td>29844.000000</td>\n",
              "      <td>29844.000000</td>\n",
              "      <td>29844.000000</td>\n",
              "      <td>2.984400e+04</td>\n",
              "      <td>29844.00000</td>\n",
              "      <td>29844.000000</td>\n",
              "    </tr>\n",
              "    <tr>\n",
              "      <th>mean</th>\n",
              "      <td>150000.0</td>\n",
              "      <td>2013.062425</td>\n",
              "      <td>6.560783</td>\n",
              "      <td>6.299457</td>\n",
              "      <td>150369.594391</td>\n",
              "      <td>2.011224e+07</td>\n",
              "      <td>1.910669</td>\n",
              "      <td>5.554785</td>\n",
              "      <td>0.401086</td>\n",
              "      <td>2.794733</td>\n",
              "      <td>3.581490</td>\n",
              "      <td>855.115927</td>\n",
              "      <td>173.782294</td>\n",
              "      <td>1028.890281</td>\n",
              "      <td>419.330752</td>\n",
              "      <td>394.991426</td>\n",
              "      <td>2.013119e+07</td>\n",
              "      <td>2.013128e+07</td>\n",
              "      <td>150342.332071</td>\n",
              "      <td>3.524545</td>\n",
              "      <td>3.435580</td>\n",
              "      <td>4.801964</td>\n",
              "      <td>0.016419</td>\n",
              "      <td>37.365714</td>\n",
              "      <td>1.906011</td>\n",
              "      <td>3.157486</td>\n",
              "      <td>0.498526</td>\n",
              "      <td>1.503701e+06</td>\n",
              "      <td>1503.95185</td>\n",
              "      <td>3.904771</td>\n",
              "    </tr>\n",
              "    <tr>\n",
              "      <th>std</th>\n",
              "      <td>0.0</td>\n",
              "      <td>4.264269</td>\n",
              "      <td>3.426808</td>\n",
              "      <td>1.780943</td>\n",
              "      <td>250.900752</td>\n",
              "      <td>4.736426e+04</td>\n",
              "      <td>0.996019</td>\n",
              "      <td>20.295813</td>\n",
              "      <td>2.298029</td>\n",
              "      <td>3.853822</td>\n",
              "      <td>4.374338</td>\n",
              "      <td>2126.105156</td>\n",
              "      <td>501.609144</td>\n",
              "      <td>2559.460299</td>\n",
              "      <td>2138.414210</td>\n",
              "      <td>980.509685</td>\n",
              "      <td>4.263235e+04</td>\n",
              "      <td>4.266726e+04</td>\n",
              "      <td>242.707032</td>\n",
              "      <td>0.706864</td>\n",
              "      <td>3.537125</td>\n",
              "      <td>6.385919</td>\n",
              "      <td>0.127083</td>\n",
              "      <td>46.061994</td>\n",
              "      <td>1.547031</td>\n",
              "      <td>3.421832</td>\n",
              "      <td>0.500006</td>\n",
              "      <td>2.508947e+03</td>\n",
              "      <td>1.47587</td>\n",
              "      <td>1.424852</td>\n",
              "    </tr>\n",
              "    <tr>\n",
              "      <th>min</th>\n",
              "      <td>150000.0</td>\n",
              "      <td>2010.000000</td>\n",
              "      <td>1.000000</td>\n",
              "      <td>1.000000</td>\n",
              "      <td>150010.000000</td>\n",
              "      <td>2.005010e+07</td>\n",
              "      <td>1.000000</td>\n",
              "      <td>0.000000</td>\n",
              "      <td>0.000000</td>\n",
              "      <td>0.000000</td>\n",
              "      <td>0.000000</td>\n",
              "      <td>30.470000</td>\n",
              "      <td>8.150000</td>\n",
              "      <td>40.380000</td>\n",
              "      <td>0.000000</td>\n",
              "      <td>9.100000</td>\n",
              "      <td>2.009103e+07</td>\n",
              "      <td>2.010010e+07</td>\n",
              "      <td>150010.000000</td>\n",
              "      <td>2.000000</td>\n",
              "      <td>0.000000</td>\n",
              "      <td>0.000000</td>\n",
              "      <td>0.000000</td>\n",
              "      <td>1.000000</td>\n",
              "      <td>0.000000</td>\n",
              "      <td>1.000000</td>\n",
              "      <td>0.000000</td>\n",
              "      <td>1.500107e+06</td>\n",
              "      <td>1501.00000</td>\n",
              "      <td>1.000000</td>\n",
              "    </tr>\n",
              "    <tr>\n",
              "      <th>25%</th>\n",
              "      <td>150000.0</td>\n",
              "      <td>2010.000000</td>\n",
              "      <td>4.000000</td>\n",
              "      <td>7.000000</td>\n",
              "      <td>150150.000000</td>\n",
              "      <td>2.008032e+07</td>\n",
              "      <td>1.000000</td>\n",
              "      <td>0.000000</td>\n",
              "      <td>0.000000</td>\n",
              "      <td>1.000000</td>\n",
              "      <td>2.000000</td>\n",
              "      <td>293.400000</td>\n",
              "      <td>39.500000</td>\n",
              "      <td>337.240000</td>\n",
              "      <td>0.000000</td>\n",
              "      <td>149.640000</td>\n",
              "      <td>2.010051e+07</td>\n",
              "      <td>2.010051e+07</td>\n",
              "      <td>150140.000000</td>\n",
              "      <td>3.000000</td>\n",
              "      <td>1.000000</td>\n",
              "      <td>2.000000</td>\n",
              "      <td>0.000000</td>\n",
              "      <td>3.000000</td>\n",
              "      <td>1.000000</td>\n",
              "      <td>1.000000</td>\n",
              "      <td>0.000000</td>\n",
              "      <td>1.501501e+06</td>\n",
              "      <td>1503.00000</td>\n",
              "      <td>3.000000</td>\n",
              "    </tr>\n",
              "    <tr>\n",
              "      <th>50%</th>\n",
              "      <td>150000.0</td>\n",
              "      <td>2010.000000</td>\n",
              "      <td>7.000000</td>\n",
              "      <td>7.000000</td>\n",
              "      <td>150330.000000</td>\n",
              "      <td>2.009081e+07</td>\n",
              "      <td>1.000000</td>\n",
              "      <td>0.000000</td>\n",
              "      <td>0.000000</td>\n",
              "      <td>2.000000</td>\n",
              "      <td>3.000000</td>\n",
              "      <td>317.400000</td>\n",
              "      <td>39.500000</td>\n",
              "      <td>376.070000</td>\n",
              "      <td>0.000000</td>\n",
              "      <td>202.840000</td>\n",
              "      <td>2.010092e+07</td>\n",
              "      <td>2.010092e+07</td>\n",
              "      <td>150295.000000</td>\n",
              "      <td>4.000000</td>\n",
              "      <td>2.000000</td>\n",
              "      <td>3.000000</td>\n",
              "      <td>0.000000</td>\n",
              "      <td>3.000000</td>\n",
              "      <td>2.000000</td>\n",
              "      <td>1.000000</td>\n",
              "      <td>0.000000</td>\n",
              "      <td>1.503309e+06</td>\n",
              "      <td>1504.00000</td>\n",
              "      <td>4.000000</td>\n",
              "    </tr>\n",
              "    <tr>\n",
              "      <th>75%</th>\n",
              "      <td>150000.0</td>\n",
              "      <td>2019.000000</td>\n",
              "      <td>10.000000</td>\n",
              "      <td>7.000000</td>\n",
              "      <td>150618.000000</td>\n",
              "      <td>2.016112e+07</td>\n",
              "      <td>3.000000</td>\n",
              "      <td>0.000000</td>\n",
              "      <td>0.000000</td>\n",
              "      <td>3.000000</td>\n",
              "      <td>4.000000</td>\n",
              "      <td>528.070000</td>\n",
              "      <td>78.350000</td>\n",
              "      <td>606.420000</td>\n",
              "      <td>0.000000</td>\n",
              "      <td>332.810000</td>\n",
              "      <td>2.019041e+07</td>\n",
              "      <td>2.019042e+07</td>\n",
              "      <td>150580.000000</td>\n",
              "      <td>4.000000</td>\n",
              "      <td>4.000000</td>\n",
              "      <td>4.000000</td>\n",
              "      <td>0.000000</td>\n",
              "      <td>99.000000</td>\n",
              "      <td>3.000000</td>\n",
              "      <td>3.000000</td>\n",
              "      <td>1.000000</td>\n",
              "      <td>1.506187e+06</td>\n",
              "      <td>1505.00000</td>\n",
              "      <td>5.000000</td>\n",
              "    </tr>\n",
              "    <tr>\n",
              "      <th>max</th>\n",
              "      <td>150000.0</td>\n",
              "      <td>2019.000000</td>\n",
              "      <td>12.000000</td>\n",
              "      <td>7.000000</td>\n",
              "      <td>150840.000000</td>\n",
              "      <td>2.019123e+07</td>\n",
              "      <td>3.000000</td>\n",
              "      <td>81.000000</td>\n",
              "      <td>54.000000</td>\n",
              "      <td>120.000000</td>\n",
              "      <td>154.000000</td>\n",
              "      <td>50384.880000</td>\n",
              "      <td>16985.010000</td>\n",
              "      <td>58505.510000</td>\n",
              "      <td>56488.960000</td>\n",
              "      <td>34415.000000</td>\n",
              "      <td>2.019123e+07</td>\n",
              "      <td>2.019123e+07</td>\n",
              "      <td>150835.000000</td>\n",
              "      <td>4.000000</td>\n",
              "      <td>30.000000</td>\n",
              "      <td>154.000000</td>\n",
              "      <td>1.000000</td>\n",
              "      <td>99.000000</td>\n",
              "      <td>5.000000</td>\n",
              "      <td>19.000000</td>\n",
              "      <td>1.000000</td>\n",
              "      <td>1.508407e+06</td>\n",
              "      <td>1506.00000</td>\n",
              "      <td>6.000000</td>\n",
              "    </tr>\n",
              "  </tbody>\n",
              "</table>\n",
              "</div>\n",
              "      <button class=\"colab-df-convert\" onclick=\"convertToInteractive('df-d89fa891-177d-4a71-815b-dd01cae6fe62')\"\n",
              "              title=\"Convert this dataframe to an interactive table.\"\n",
              "              style=\"display:none;\">\n",
              "        \n",
              "  <svg xmlns=\"http://www.w3.org/2000/svg\" height=\"24px\"viewBox=\"0 0 24 24\"\n",
              "       width=\"24px\">\n",
              "    <path d=\"M0 0h24v24H0V0z\" fill=\"none\"/>\n",
              "    <path d=\"M18.56 5.44l.94 2.06.94-2.06 2.06-.94-2.06-.94-.94-2.06-.94 2.06-2.06.94zm-11 1L8.5 8.5l.94-2.06 2.06-.94-2.06-.94L8.5 2.5l-.94 2.06-2.06.94zm10 10l.94 2.06.94-2.06 2.06-.94-2.06-.94-.94-2.06-.94 2.06-2.06.94z\"/><path d=\"M17.41 7.96l-1.37-1.37c-.4-.4-.92-.59-1.43-.59-.52 0-1.04.2-1.43.59L10.3 9.45l-7.72 7.72c-.78.78-.78 2.05 0 2.83L4 21.41c.39.39.9.59 1.41.59.51 0 1.02-.2 1.41-.59l7.78-7.78 2.81-2.81c.8-.78.8-2.07 0-2.86zM5.41 20L4 18.59l7.72-7.72 1.47 1.35L5.41 20z\"/>\n",
              "  </svg>\n",
              "      </button>\n",
              "      \n",
              "  <style>\n",
              "    .colab-df-container {\n",
              "      display:flex;\n",
              "      flex-wrap:wrap;\n",
              "      gap: 12px;\n",
              "    }\n",
              "\n",
              "    .colab-df-convert {\n",
              "      background-color: #E8F0FE;\n",
              "      border: none;\n",
              "      border-radius: 50%;\n",
              "      cursor: pointer;\n",
              "      display: none;\n",
              "      fill: #1967D2;\n",
              "      height: 32px;\n",
              "      padding: 0 0 0 0;\n",
              "      width: 32px;\n",
              "    }\n",
              "\n",
              "    .colab-df-convert:hover {\n",
              "      background-color: #E2EBFA;\n",
              "      box-shadow: 0px 1px 2px rgba(60, 64, 67, 0.3), 0px 1px 3px 1px rgba(60, 64, 67, 0.15);\n",
              "      fill: #174EA6;\n",
              "    }\n",
              "\n",
              "    [theme=dark] .colab-df-convert {\n",
              "      background-color: #3B4455;\n",
              "      fill: #D2E3FC;\n",
              "    }\n",
              "\n",
              "    [theme=dark] .colab-df-convert:hover {\n",
              "      background-color: #434B5C;\n",
              "      box-shadow: 0px 1px 3px 1px rgba(0, 0, 0, 0.15);\n",
              "      filter: drop-shadow(0px 1px 2px rgba(0, 0, 0, 0.3));\n",
              "      fill: #FFFFFF;\n",
              "    }\n",
              "  </style>\n",
              "\n",
              "      <script>\n",
              "        const buttonEl =\n",
              "          document.querySelector('#df-d89fa891-177d-4a71-815b-dd01cae6fe62 button.colab-df-convert');\n",
              "        buttonEl.style.display =\n",
              "          google.colab.kernel.accessAllowed ? 'block' : 'none';\n",
              "\n",
              "        async function convertToInteractive(key) {\n",
              "          const element = document.querySelector('#df-d89fa891-177d-4a71-815b-dd01cae6fe62');\n",
              "          const dataTable =\n",
              "            await google.colab.kernel.invokeFunction('convertToInteractive',\n",
              "                                                     [key], {});\n",
              "          if (!dataTable) return;\n",
              "\n",
              "          const docLinkHtml = 'Like what you see? Visit the ' +\n",
              "            '<a target=\"_blank\" href=https://colab.research.google.com/notebooks/data_table.ipynb>data table notebook</a>'\n",
              "            + ' to learn more about interactive tables.';\n",
              "          element.innerHTML = '';\n",
              "          dataTable['output_type'] = 'display_data';\n",
              "          await google.colab.output.renderOutput(dataTable, element);\n",
              "          const docLink = document.createElement('div');\n",
              "          docLink.innerHTML = docLinkHtml;\n",
              "          element.appendChild(docLink);\n",
              "        }\n",
              "      </script>\n",
              "    </div>\n",
              "  </div>\n",
              "  "
            ],
            "text/plain": [
              "          UF_ZI      ANO_CMPT  ...      CODMESO          MESO\n",
              "count   29844.0  29844.000000  ...  29844.00000  29844.000000\n",
              "mean   150000.0   2013.062425  ...   1503.95185      3.904771\n",
              "std         0.0      4.264269  ...      1.47587      1.424852\n",
              "min    150000.0   2010.000000  ...   1501.00000      1.000000\n",
              "25%    150000.0   2010.000000  ...   1503.00000      3.000000\n",
              "50%    150000.0   2010.000000  ...   1504.00000      4.000000\n",
              "75%    150000.0   2019.000000  ...   1505.00000      5.000000\n",
              "max    150000.0   2019.000000  ...   1506.00000      6.000000\n",
              "\n",
              "[8 rows x 30 columns]"
            ]
          },
          "metadata": {},
          "execution_count": 4
        }
      ]
    },
    {
      "cell_type": "markdown",
      "source": [
        "#EDA"
      ],
      "metadata": {
        "id": "z5ehgaEpRFf0"
      }
    },
    {
      "cell_type": "code",
      "source": [
        "df.UF_ZI.unique() #essa coluna não varia, logo, não é necessária para a modelagem, posteriormente"
      ],
      "metadata": {
        "colab": {
          "base_uri": "https://localhost:8080/"
        },
        "id": "OQO51vBGH8qa",
        "outputId": "c951790a-1109-449a-d966-410be2b96938"
      },
      "execution_count": null,
      "outputs": [
        {
          "output_type": "execute_result",
          "data": {
            "text/plain": [
              "array([150000])"
            ]
          },
          "metadata": {},
          "execution_count": 5
        }
      ]
    },
    {
      "cell_type": "code",
      "source": [
        "df = df.drop(['UF_ZI', 'MUNIC_RES','NASC','MARCA_UTI','MUNIC_MOV','COD_IDADE',\n",
        "             'IDADE','Grupon','ID_RM','CODMESO'], axis=1) #excluindo variáveis desnecessárias"
      ],
      "metadata": {
        "id": "LHHCFE3mdRW6"
      },
      "execution_count": null,
      "outputs": []
    },
    {
      "cell_type": "code",
      "source": [
        "df.loc[df['DT_INTER'].isna()] #Contém valores nulos em várias colunas\n"
      ],
      "metadata": {
        "colab": {
          "base_uri": "https://localhost:8080/",
          "height": 162
        },
        "id": "zjzR1fAZKsjN",
        "outputId": "563ee42b-a7e2-481a-aa5d-83bcc692dcc6"
      },
      "execution_count": null,
      "outputs": [
        {
          "output_type": "execute_result",
          "data": {
            "text/html": [
              "\n",
              "  <div id=\"df-589b7969-95b9-497e-a1f3-ccc46aa0b5cd\">\n",
              "    <div class=\"colab-df-container\">\n",
              "      <div>\n",
              "<style scoped>\n",
              "    .dataframe tbody tr th:only-of-type {\n",
              "        vertical-align: middle;\n",
              "    }\n",
              "\n",
              "    .dataframe tbody tr th {\n",
              "        vertical-align: top;\n",
              "    }\n",
              "\n",
              "    .dataframe thead th {\n",
              "        text-align: right;\n",
              "    }\n",
              "</style>\n",
              "<table border=\"1\" class=\"dataframe\">\n",
              "  <thead>\n",
              "    <tr style=\"text-align: right;\">\n",
              "      <th></th>\n",
              "      <th>ANO_CMPT</th>\n",
              "      <th>MES_CMPT</th>\n",
              "      <th>ESPEC</th>\n",
              "      <th>SEXO</th>\n",
              "      <th>UTI_INT_TO</th>\n",
              "      <th>DIAR_ACOM</th>\n",
              "      <th>QT_DIARIAS</th>\n",
              "      <th>VAL_SH</th>\n",
              "      <th>VAL_SP</th>\n",
              "      <th>VAL_TOT</th>\n",
              "      <th>VAL_UTI</th>\n",
              "      <th>US_TOT</th>\n",
              "      <th>DT_INTER</th>\n",
              "      <th>DT_SAIDA</th>\n",
              "      <th>DIAG_PRINC</th>\n",
              "      <th>DIAG_SECUN</th>\n",
              "      <th>DIAS_PERM</th>\n",
              "      <th>MORTE</th>\n",
              "      <th>RACA_COR</th>\n",
              "      <th>years_old</th>\n",
              "      <th>Grupo</th>\n",
              "      <th>Grupo_Nome</th>\n",
              "      <th>ICSAP</th>\n",
              "      <th>CODMUNNEW</th>\n",
              "      <th>NOME_MUNIC</th>\n",
              "      <th>MESORREGIAO</th>\n",
              "      <th>MESO</th>\n",
              "    </tr>\n",
              "  </thead>\n",
              "  <tbody>\n",
              "    <tr>\n",
              "      <th>23192</th>\n",
              "      <td>2019</td>\n",
              "      <td>7</td>\n",
              "      <td>7</td>\n",
              "      <td>1</td>\n",
              "      <td>7</td>\n",
              "      <td>0</td>\n",
              "      <td>0</td>\n",
              "      <td>720.66</td>\n",
              "      <td>764.31</td>\n",
              "      <td>NaN</td>\n",
              "      <td>NaN</td>\n",
              "      <td>NaN</td>\n",
              "      <td>NaN</td>\n",
              "      <td>NaN</td>\n",
              "      <td>NaN</td>\n",
              "      <td>NaN</td>\n",
              "      <td>NaN</td>\n",
              "      <td>NaN</td>\n",
              "      <td>NaN</td>\n",
              "      <td>0</td>\n",
              "      <td>NaN</td>\n",
              "      <td>NaN</td>\n",
              "      <td>0.0</td>\n",
              "      <td>1501709</td>\n",
              "      <td>Bragança</td>\n",
              "      <td>Nordeste Paraense</td>\n",
              "      <td>4</td>\n",
              "    </tr>\n",
              "  </tbody>\n",
              "</table>\n",
              "</div>\n",
              "      <button class=\"colab-df-convert\" onclick=\"convertToInteractive('df-589b7969-95b9-497e-a1f3-ccc46aa0b5cd')\"\n",
              "              title=\"Convert this dataframe to an interactive table.\"\n",
              "              style=\"display:none;\">\n",
              "        \n",
              "  <svg xmlns=\"http://www.w3.org/2000/svg\" height=\"24px\"viewBox=\"0 0 24 24\"\n",
              "       width=\"24px\">\n",
              "    <path d=\"M0 0h24v24H0V0z\" fill=\"none\"/>\n",
              "    <path d=\"M18.56 5.44l.94 2.06.94-2.06 2.06-.94-2.06-.94-.94-2.06-.94 2.06-2.06.94zm-11 1L8.5 8.5l.94-2.06 2.06-.94-2.06-.94L8.5 2.5l-.94 2.06-2.06.94zm10 10l.94 2.06.94-2.06 2.06-.94-2.06-.94-.94-2.06-.94 2.06-2.06.94z\"/><path d=\"M17.41 7.96l-1.37-1.37c-.4-.4-.92-.59-1.43-.59-.52 0-1.04.2-1.43.59L10.3 9.45l-7.72 7.72c-.78.78-.78 2.05 0 2.83L4 21.41c.39.39.9.59 1.41.59.51 0 1.02-.2 1.41-.59l7.78-7.78 2.81-2.81c.8-.78.8-2.07 0-2.86zM5.41 20L4 18.59l7.72-7.72 1.47 1.35L5.41 20z\"/>\n",
              "  </svg>\n",
              "      </button>\n",
              "      \n",
              "  <style>\n",
              "    .colab-df-container {\n",
              "      display:flex;\n",
              "      flex-wrap:wrap;\n",
              "      gap: 12px;\n",
              "    }\n",
              "\n",
              "    .colab-df-convert {\n",
              "      background-color: #E8F0FE;\n",
              "      border: none;\n",
              "      border-radius: 50%;\n",
              "      cursor: pointer;\n",
              "      display: none;\n",
              "      fill: #1967D2;\n",
              "      height: 32px;\n",
              "      padding: 0 0 0 0;\n",
              "      width: 32px;\n",
              "    }\n",
              "\n",
              "    .colab-df-convert:hover {\n",
              "      background-color: #E2EBFA;\n",
              "      box-shadow: 0px 1px 2px rgba(60, 64, 67, 0.3), 0px 1px 3px 1px rgba(60, 64, 67, 0.15);\n",
              "      fill: #174EA6;\n",
              "    }\n",
              "\n",
              "    [theme=dark] .colab-df-convert {\n",
              "      background-color: #3B4455;\n",
              "      fill: #D2E3FC;\n",
              "    }\n",
              "\n",
              "    [theme=dark] .colab-df-convert:hover {\n",
              "      background-color: #434B5C;\n",
              "      box-shadow: 0px 1px 3px 1px rgba(0, 0, 0, 0.15);\n",
              "      filter: drop-shadow(0px 1px 2px rgba(0, 0, 0, 0.3));\n",
              "      fill: #FFFFFF;\n",
              "    }\n",
              "  </style>\n",
              "\n",
              "      <script>\n",
              "        const buttonEl =\n",
              "          document.querySelector('#df-589b7969-95b9-497e-a1f3-ccc46aa0b5cd button.colab-df-convert');\n",
              "        buttonEl.style.display =\n",
              "          google.colab.kernel.accessAllowed ? 'block' : 'none';\n",
              "\n",
              "        async function convertToInteractive(key) {\n",
              "          const element = document.querySelector('#df-589b7969-95b9-497e-a1f3-ccc46aa0b5cd');\n",
              "          const dataTable =\n",
              "            await google.colab.kernel.invokeFunction('convertToInteractive',\n",
              "                                                     [key], {});\n",
              "          if (!dataTable) return;\n",
              "\n",
              "          const docLinkHtml = 'Like what you see? Visit the ' +\n",
              "            '<a target=\"_blank\" href=https://colab.research.google.com/notebooks/data_table.ipynb>data table notebook</a>'\n",
              "            + ' to learn more about interactive tables.';\n",
              "          element.innerHTML = '';\n",
              "          dataTable['output_type'] = 'display_data';\n",
              "          await google.colab.output.renderOutput(dataTable, element);\n",
              "          const docLink = document.createElement('div');\n",
              "          docLink.innerHTML = docLinkHtml;\n",
              "          element.appendChild(docLink);\n",
              "        }\n",
              "      </script>\n",
              "    </div>\n",
              "  </div>\n",
              "  "
            ],
            "text/plain": [
              "       ANO_CMPT  MES_CMPT  ESPEC  ...  NOME_MUNIC        MESORREGIAO  MESO\n",
              "23192      2019         7      7  ...    Bragança  Nordeste Paraense     4\n",
              "\n",
              "[1 rows x 27 columns]"
            ]
          },
          "metadata": {},
          "execution_count": 7
        }
      ]
    },
    {
      "cell_type": "code",
      "source": [
        "df = df.drop(23192)"
      ],
      "metadata": {
        "id": "TEQni97Xhwed"
      },
      "execution_count": null,
      "outputs": []
    },
    {
      "cell_type": "code",
      "source": [
        "df.Grupo_Nome.unique()"
      ],
      "metadata": {
        "colab": {
          "base_uri": "https://localhost:8080/"
        },
        "id": "Zv8Z_1QRMA54",
        "outputId": "0e08f6d2-e78a-44a0-804f-adfdface3c59"
      },
      "execution_count": null,
      "outputs": [
        {
          "output_type": "execute_result",
          "data": {
            "text/plain": [
              "array(['Gastroenterites Infecciosas e complicações', nan, 'Asma',\n",
              "       'Infecção no Rim e Trato Urinário',\n",
              "       'Doença Inflamatória órgãos pélvicos femininos',\n",
              "       'Infecções de ouvido, nariz e garganta', 'Pneumonias bacterianas',\n",
              "       'Doencas pulmonares',\n",
              "       'Doenças preveníveis por imunização e condições sensíveis',\n",
              "       'Infecção da pele e tecido subcutâneo',\n",
              "       'Doenças relacionadas ao Pré-Natal e Parto',\n",
              "       'Deficiências Nutricionais', 'Eplepsias',\n",
              "       'Úlcera gastrointestinal', 'Anemia', 'Diabetes melitus',\n",
              "       'Insuficiência Cardíaca', 'Hipertensão',\n",
              "       'Doenças Cerebrovasculares'], dtype=object)"
            ]
          },
          "metadata": {},
          "execution_count": 9
        }
      ]
    },
    {
      "cell_type": "code",
      "source": [
        "df.SEXO.value_counts()"
      ],
      "metadata": {
        "colab": {
          "base_uri": "https://localhost:8080/"
        },
        "id": "8nN1V3tHOLA5",
        "outputId": "038230f0-0370-4901-933d-33b89c16b500"
      },
      "execution_count": null,
      "outputs": [
        {
          "output_type": "execute_result",
          "data": {
            "text/plain": [
              "1    16254\n",
              "3    13589\n",
              "Name: SEXO, dtype: int64"
            ]
          },
          "metadata": {},
          "execution_count": 10
        }
      ]
    },
    {
      "cell_type": "code",
      "source": [
        "df.groupby(by=['SEXO','MESORREGIAO'])['Grupo'].count()"
      ],
      "metadata": {
        "colab": {
          "base_uri": "https://localhost:8080/"
        },
        "id": "yiGry9MVO1o6",
        "outputId": "78d9f192-6e92-48d8-92f3-f67c6a889542"
      },
      "execution_count": null,
      "outputs": [
        {
          "output_type": "execute_result",
          "data": {
            "text/plain": [
              "SEXO  MESORREGIAO           \n",
              "1     Baixo Amazonas             755\n",
              "      Marajó                     591\n",
              "      Metropolitana de Belém    1338\n",
              "      Nordeste Paraense         2724\n",
              "      Sudeste Paraense          1485\n",
              "      Sudoeste Paraense          946\n",
              "3     Baixo Amazonas             658\n",
              "      Marajó                     541\n",
              "      Metropolitana de Belém    1186\n",
              "      Nordeste Paraense         2392\n",
              "      Sudeste Paraense          1365\n",
              "      Sudoeste Paraense          897\n",
              "Name: Grupo, dtype: int64"
            ]
          },
          "metadata": {},
          "execution_count": 11
        }
      ]
    },
    {
      "cell_type": "markdown",
      "source": [
        "Quantidade de internações por mesorregião do Estado do Pará"
      ],
      "metadata": {
        "id": "76WIm0Alz0jH"
      }
    },
    {
      "cell_type": "code",
      "source": [
        "ax = sns.countplot(df.MESORREGIAO, palette=\"Set2\")\n",
        "ax.figure.set_size_inches(12, 8)\n",
        "ax.set_ylabel('Quantidade', fontsize= 13)\n",
        "ax.set_xlabel('')\n",
        "ax"
      ],
      "metadata": {
        "colab": {
          "base_uri": "https://localhost:8080/",
          "height": 558
        },
        "id": "IhWTXzGwQGKm",
        "outputId": "5e76c9cc-ccd1-45fc-e4b8-4f3f54e00bea"
      },
      "execution_count": null,
      "outputs": [
        {
          "output_type": "stream",
          "name": "stderr",
          "text": [
            "/usr/local/lib/python3.7/dist-packages/seaborn/_decorators.py:43: FutureWarning: Pass the following variable as a keyword arg: x. From version 0.12, the only valid positional argument will be `data`, and passing other arguments without an explicit keyword will result in an error or misinterpretation.\n",
            "  FutureWarning\n"
          ]
        },
        {
          "output_type": "execute_result",
          "data": {
            "text/plain": [
              "<matplotlib.axes._subplots.AxesSubplot at 0x7f08825dd590>"
            ]
          },
          "metadata": {},
          "execution_count": 12
        },
        {
          "output_type": "display_data",
          "data": {
            "image/png": "[encoded data removed]",
            "text/plain": [
              "<Figure size 864x576 with 1 Axes>"
            ]
          },
          "metadata": {
            "needs_background": "light"
          }
        }
      ]
    },
    {
      "cell_type": "markdown",
      "source": [
        "Relação de doenças causadas por condições sensíveis e doenças por outras condições com a idade da criança internada"
      ],
      "metadata": {
        "id": "zq9D0Ep3z-0j"
      }
    },
    {
      "cell_type": "code",
      "source": [
        "ax = sns.boxplot(x='ICSAP', y='years_old', data=df, palette=\"Set2\")\n",
        "ax.figure.set_size_inches(12,8)\n",
        "ax.set_ylabel('Idade (em anos)')\n",
        "ax.set_xlabel('')\n",
        "ax.set_xticklabels(['Doença por condições sensíveis','Doença por outras condições'], fontsize=13)\n",
        "ax"
      ],
      "metadata": {
        "colab": {
          "base_uri": "https://localhost:8080/",
          "height": 504
        },
        "id": "GQFlB3LzRaiJ",
        "outputId": "f1aa8352-91fa-4094-f36d-f7b89b328794"
      },
      "execution_count": null,
      "outputs": [
        {
          "output_type": "execute_result",
          "data": {
            "text/plain": [
              "<matplotlib.axes._subplots.AxesSubplot at 0x7f088270cb50>"
            ]
          },
          "metadata": {},
          "execution_count": 13
        },
        {
          "output_type": "display_data",
          "data": {
            "image/png": "[encoded data removed]",
            "text/plain": [
              "<Figure size 864x576 with 1 Axes>"
            ]
          },
          "metadata": {
            "needs_background": "light"
          }
        }
      ]
    },
    {
      "cell_type": "markdown",
      "source": [
        "Distribuição de gênero das crianças internadas"
      ],
      "metadata": {
        "id": "NSktZHuY4Ixn"
      }
    },
    {
      "cell_type": "code",
      "source": [
        "ax = sns.countplot(df.SEXO, palette=\"Set2\")\n",
        "ax.figure.set_size_inches(12, 8)\n",
        "ax.set_ylabel('Quantidade', fontsize= 13)\n",
        "ax.set_xlabel('')\n",
        "ax.set_xticklabels(['Masculino','Feminino'], fontsize=13)\n",
        "ax"
      ],
      "metadata": {
        "colab": {
          "base_uri": "https://localhost:8080/",
          "height": 561
        },
        "id": "Mj86Yc2LTI2o",
        "outputId": "e635f5c4-4011-4bc0-e3c3-43006be021f4"
      },
      "execution_count": null,
      "outputs": [
        {
          "output_type": "stream",
          "name": "stderr",
          "text": [
            "/usr/local/lib/python3.7/dist-packages/seaborn/_decorators.py:43: FutureWarning: Pass the following variable as a keyword arg: x. From version 0.12, the only valid positional argument will be `data`, and passing other arguments without an explicit keyword will result in an error or misinterpretation.\n",
            "  FutureWarning\n"
          ]
        },
        {
          "output_type": "execute_result",
          "data": {
            "text/plain": [
              "<matplotlib.axes._subplots.AxesSubplot at 0x7f08828f8a90>"
            ]
          },
          "metadata": {},
          "execution_count": 14
        },
        {
          "output_type": "display_data",
          "data": {
            "image/png": "[encoded data removed]",
            "text/plain": [
              "<Figure size 864x576 with 1 Axes>"
            ]
          },
          "metadata": {
            "needs_background": "light"
          }
        }
      ]
    },
    {
      "cell_type": "code",
      "source": [
        "df['MORTE'].value_counts() #irei deixar todos os valores no mesmo tipo (numérico)"
      ],
      "metadata": {
        "colab": {
          "base_uri": "https://localhost:8080/"
        },
        "id": "ywJ48Ts2hFIn",
        "outputId": "5dd6fd48-8046-466b-9c1f-a9000b9115a7"
      },
      "execution_count": null,
      "outputs": [
        {
          "output_type": "execute_result",
          "data": {
            "text/plain": [
              "0.0    29353\n",
              "1.0      490\n",
              "Name: MORTE, dtype: int64"
            ]
          },
          "metadata": {},
          "execution_count": 15
        }
      ]
    },
    {
      "cell_type": "code",
      "source": [
        "df['MORTE'] = df['MORTE'].replace('#NULO!',0) #substituindo o valor nulo pela moda"
      ],
      "metadata": {
        "id": "-rBhusJShHoG"
      },
      "execution_count": null,
      "outputs": []
    },
    {
      "cell_type": "code",
      "source": [
        "df['MORTE'] = df['MORTE'].replace('0',0) #substituindo as strings por valores numericos\n",
        "df['MORTE'] = df['MORTE'].replace('1',1) #substituindo "
      ],
      "metadata": {
        "id": "13XlqBuZjza0"
      },
      "execution_count": null,
      "outputs": []
    },
    {
      "cell_type": "code",
      "source": [
        "df['MORTE'].value_counts()"
      ],
      "metadata": {
        "colab": {
          "base_uri": "https://localhost:8080/"
        },
        "id": "RbFqIN7ljEWf",
        "outputId": "bc6906fb-e20f-42da-c52d-b0861e931410"
      },
      "execution_count": null,
      "outputs": [
        {
          "output_type": "execute_result",
          "data": {
            "text/plain": [
              "0.0    29353\n",
              "1.0      490\n",
              "Name: MORTE, dtype: int64"
            ]
          },
          "metadata": {},
          "execution_count": 18
        }
      ]
    },
    {
      "cell_type": "markdown",
      "source": [
        "Box-plots das crianças que foram e não foram a óbito, divido por quem foi hospitalizado por condições sensíveis e por outras condições. "
      ],
      "metadata": {
        "id": "dyBEph_O4UZ-"
      }
    },
    {
      "cell_type": "code",
      "source": [
        "ax = sns.boxplot(x='MORTE', y='years_old', data=df, palette=\"Set2\")\n",
        "ax.figure.set_size_inches(12,8)\n",
        "ax.set_ylabel('idade (em anos)')\n",
        "ax.set_xlabel('')\n",
        "ax.set_xticklabels(['Não foi a óbito','Foi a óbito'], fontsize=13)\n",
        "plt.yticks(range(1, 7)) # mudar escala do eixo y\n",
        "\n",
        "import matplotlib.patches as mpatches\n",
        "green = mpatches.Patch(color='lightseagreen', label='Não')\n",
        "pink = mpatches.Patch(color='lightcoral', label='Sim')\n",
        "plt.legend(title='A hospitalização foi causada por condições sensíveis?', loc='upper left', handles = [green, pink])\n",
        "ax"
      ],
      "metadata": {
        "colab": {
          "base_uri": "https://localhost:8080/",
          "height": 508
        },
        "id": "JtUypqFDjc5j",
        "outputId": "564f141a-b03f-44e7-a15e-f11dee3d2c60"
      },
      "execution_count": null,
      "outputs": [
        {
          "output_type": "execute_result",
          "data": {
            "text/plain": [
              "<matplotlib.axes._subplots.AxesSubplot at 0x7f08829d7350>"
            ]
          },
          "metadata": {},
          "execution_count": 19
        },
        {
          "output_type": "display_data",
          "data": {
            "image/png": "[encoded data removed]",
            "text/plain": [
              "<Figure size 864x576 with 1 Axes>"
            ]
          },
          "metadata": {
            "needs_background": "light"
          }
        }
      ]
    },
    {
      "cell_type": "code",
      "source": [
        "df.groupby(by=['ANO_CMPT','MESORREGIAO','ICSAP'])['ICSAP'].count()"
      ],
      "metadata": {
        "id": "x_F9eMG6vXVs",
        "colab": {
          "base_uri": "https://localhost:8080/"
        },
        "outputId": "ef381597-cbbb-42ba-a5bd-71c524826fd6"
      },
      "execution_count": null,
      "outputs": [
        {
          "output_type": "execute_result",
          "data": {
            "text/plain": [
              "ANO_CMPT  MESORREGIAO             ICSAP\n",
              "2010      Baixo Amazonas          0.0       882\n",
              "                                  1.0      1145\n",
              "          Marajó                  0.0       405\n",
              "                                  1.0       729\n",
              "          Metropolitana de Belém  0.0       718\n",
              "                                  1.0      1756\n",
              "          Nordeste Paraense       0.0      2645\n",
              "                                  1.0      3914\n",
              "          Sudeste Paraense        0.0      1594\n",
              "                                  1.0      2529\n",
              "          Sudoeste Paraense       0.0      1773\n",
              "                                  1.0      1599\n",
              "2019      Baixo Amazonas          0.0       444\n",
              "                                  1.0       268\n",
              "          Marajó                  0.0       577\n",
              "                                  1.0       403\n",
              "          Metropolitana de Belém  0.0      1514\n",
              "                                  1.0       768\n",
              "          Nordeste Paraense       0.0      2432\n",
              "                                  1.0      1202\n",
              "          Sudeste Paraense        0.0      1279\n",
              "                                  1.0       321\n",
              "          Sudoeste Paraense       0.0       702\n",
              "                                  1.0       244\n",
              "Name: ICSAP, dtype: int64"
            ]
          },
          "metadata": {},
          "execution_count": 20
        }
      ]
    }
  ]
}